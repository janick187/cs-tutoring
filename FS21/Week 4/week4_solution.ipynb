{
  "nbformat": 4,
  "nbformat_minor": 0,
  "metadata": {
    "colab": {
      "name": "week4_solution.ipynb",
      "provenance": [],
      "collapsed_sections": []
    },
    "kernelspec": {
      "name": "python3",
      "display_name": "Python 3"
    }
  },
  "cells": [
    {
      "cell_type": "markdown",
      "metadata": {
        "id": "zpz8-DiloguI"
      },
      "source": [
        "# FCS Tutoring Session 4\n",
        "\n",
        "\n",
        "\n",
        "Welcome to our fourth exercise session. So far, we have learnt that a program starts at the top-line and finishes at the its last line of code. So this means basically, that we have to write entire software applications in one single file / Jupyter Notebook.\n",
        "\n",
        "But what do you think: Ss the compass application from HSG really implemented in one single application file? Hum, I don't think so. Despite the separation of concerns by having a front- and back-end (about which we will talk in our next session), another design-principle of applications is very important: Object-Oriented-Programming (OOP).\n",
        "\n",
        "With OOP we want to replicate the real-world as it is. We want to implement an abstarct-model of the real world.\n",
        "\n",
        "Talking about OOP, one usually works with the following terms:\n",
        "\n",
        "\n",
        "*   **Classes**: Representation of objects such as Student or Car (Nouns).\n",
        "*   **Attributes**: For a class we can define various attributes that describe the object (e.g. a Student has a Name (String), an Age (int), a matriculation number (String) and a GPA (float).\n",
        "\n",
        "*   **Methods**: For a class we can define various methods/functions that we can perform for each instantiation of the class (for all students). An exmaple would be to calculate the GPA for a Student x.\n",
        "\n",
        "So this is a very rough description of the most important things you ned to know. \n",
        "If you want to learn more about OOP check out this link:\n",
        "https://realpython.com/python3-object-oriented-programming/\n",
        "\n",
        "\n",
        "OOP is not just a tool-set, it is rather a way of thinking how to approach a problem to come up with a solution / software implementation! It is therefore a crucial skill of a software developer to think in Classes, Attributes and Methods. This is why I teach you this.\n",
        "\n",
        "For any questions please contact me on Slack.\n",
        "\n",
        "Janick Spirig, 12.03.2021"
      ]
    },
    {
      "cell_type": "markdown",
      "metadata": {
        "id": "aoedRYByAOx8"
      },
      "source": [
        "### Student\n",
        "Let's define first the student class with the following attributes\n",
        "\n",
        "```\n",
        "Name:String\n",
        "Student_iD:Integer\n",
        "```\n"
      ]
    },
    {
      "cell_type": "code",
      "metadata": {
        "id": "O9db2bvIAWK7"
      },
      "source": [
        "# your code here\n",
        "class Student:\n",
        "  def __init__(self, name, student_id):\n",
        "    self.name = name\n",
        "    self.student_id = student_id\n",
        "  \n",
        "  def __str__(self):\n",
        "    return \"Student Name: {} \\nStudent ID: {}\".format(self.name, self.student_id)"
      ],
      "execution_count": 2,
      "outputs": []
    },
    {
      "cell_type": "markdown",
      "metadata": {
        "id": "wAIM4ZqBAcFq"
      },
      "source": [
        "### Department\n",
        "Let's define the department class with the following attributes\n",
        "\n",
        "```\n",
        "Name:String\n",
        "Area:String\n",
        "Year_Established:Integer\n",
        "Lecturers:List(Lecturers)\n",
        "Courses:List(Courses)\n",
        "```\n",
        "\n"
      ]
    },
    {
      "cell_type": "code",
      "metadata": {
        "id": "PK0iRaXrA7JP"
      },
      "source": [
        "# your code here\n",
        "class Department:\n",
        "  def __init__(self, name, area, est):\n",
        "    self.name = name\n",
        "    self.area = area\n",
        "    self.est = est\n",
        "    self.lecturers = []\n",
        "    self.courses = []"
      ],
      "execution_count": 3,
      "outputs": []
    },
    {
      "cell_type": "markdown",
      "metadata": {
        "id": "dMyU-nvupCj-"
      },
      "source": [
        "### Course\n",
        "\n",
        "Let's define the course class with the following attributes\n",
        "\n",
        "```\n",
        "Name:String\n",
        "Code:String\n",
        "Credit:Integer\n",
        "Date_Time:String\n",
        "Student_Limit:Integer\n",
        "Students_Enrolled:List(Students)\n",
        "```"
      ]
    },
    {
      "cell_type": "code",
      "metadata": {
        "id": "80kZ5c6IBDJk"
      },
      "source": [
        "# your code here\n",
        "class Course:\n",
        "  def __init__(self, name, code, credit, student_limit):\n",
        "    self.name = name\n",
        "    self.code = code\n",
        "    self.credit = credit\n",
        "    self.student_limit = student_limit\n",
        "    self.students = []\n",
        "\n",
        "  def __str__(self):\n",
        "    string = \"Course Name: {}\\nCourse Code: {}\\nCredits: {}\\nENROLLED STUDENTS:\".format(self.name, self.code, self.credit)\n",
        "\n",
        "    for s in self.students:\n",
        "      string += \"\\n\"\n",
        "      string += str(s)\n",
        "      string += \"\\n********************\"\n",
        "\n",
        "    return string\n",
        "\n",
        "  def enrollStudi(self, student):\n",
        "    if len(self.students) < self.student_limit:\n",
        "      self.students.append(student)\n",
        "    else:\n",
        "      raise CourseCapacityFullError\n",
        "\n",
        "class CourseCapacityFullError(Exception):\n",
        "  pass"
      ],
      "execution_count": 7,
      "outputs": []
    },
    {
      "cell_type": "markdown",
      "metadata": {
        "id": "hXsKJsBa1YID"
      },
      "source": [
        "### Lecturer\n",
        "\n",
        "Let's define the lecturer class with the follwing attributes.\n",
        "\n",
        "```\n",
        "Name:String\n",
        "Department:Department\n",
        "```"
      ]
    },
    {
      "cell_type": "code",
      "metadata": {
        "id": "Wh5rS6DP1vIS"
      },
      "source": [
        "# your code here\n",
        "class Lecturer:\n",
        "  def __init__(self, name, department):\n",
        "    self.name = name\n",
        "    self.department = department"
      ],
      "execution_count": 5,
      "outputs": []
    },
    {
      "cell_type": "markdown",
      "metadata": {
        "id": "mWghIRsX2NbQ"
      },
      "source": [
        "### Requirements\n",
        "\n",
        "Since we have now defined our classes that we need with their according attributes, we can now start to implement some methods that actually perform some actions. Concretely, in the end we should be able to:\n",
        "\n",
        "*   Add a student to a course by its student ID if there is still space available int he course.\n",
        "*   In case a student is added to a course that is already full a `CourseCapacityFullError` should be thrown.\n",
        "*   In case a student is already enrolled in a course a `StudentAlreadyEnrolledError` should be thrown.\n",
        "*   Remove a student from a course by its student ID\n",
        "*   Print an overveiw of all students that are enrolled in the course including the information by whom and when and where the course is taught.\n"
      ]
    },
    {
      "cell_type": "markdown",
      "metadata": {
        "id": "7TAGWidp4KgJ"
      },
      "source": [
        "### Input\n",
        "\n",
        "So let's test our software to see if it is running properly."
      ]
    },
    {
      "cell_type": "code",
      "metadata": {
        "colab": {
          "base_uri": "https://localhost:8080/"
        },
        "id": "G3zSQUy_4Y2n",
        "outputId": "9cc63748-2e53-4409-dd3d-e005bad2f533"
      },
      "source": [
        "run = True\n",
        "\n",
        "courses = []\n",
        "students = []\n",
        "lecturers = []\n",
        "departments = []\n",
        "\n",
        "def printAll():\n",
        "  print(\"--------------------\")\n",
        "  print(\"COURSES\")\n",
        "  for c in courses:\n",
        "    print(c)\n",
        "    print(\"********************\")\n",
        "  print(\"--------------------\")\n",
        "\n",
        "  print(\"STUDENTS\")\n",
        "  for s in students:\n",
        "    print(s)\n",
        "    print(\"********************\")\n",
        "  print(\"--------------------\")\n",
        "\n",
        "  print(\"DEPARTMENTS\")\n",
        "  for d in departments:\n",
        "    print(d)\n",
        "    print(\"********************\")\n",
        "  print(\"--------------------\")\n",
        "\n",
        "  print(\"LECTURERS\")\n",
        "  for l in lecturers:\n",
        "    print(l)\n",
        "    print(\"********************\")\n",
        "  print(\"--------------------\")\n",
        "\n",
        "def newCourse():\n",
        "  name = input(\"Course Name: \")\n",
        "  code = input(\"Course Code: \")\n",
        "  ects = int(input(\"Credits: \"))\n",
        "  limit = int(input(\"Student Limit: \"))\n",
        "  course = Course(name, code, ects, limit)\n",
        "  courses.append(course)\n",
        "\n",
        "def newStudent():\n",
        "  name = input(\"Student Name: \")\n",
        "  id = input(\"Student ID: \")\n",
        "  studi = Student(name, id)\n",
        "  students.append(studi)\n",
        "\n",
        "def newDepartment():\n",
        "  name = input(\"Department Name: \")\n",
        "  area = input(\"Area: \")\n",
        "  est = input(\"Established: \")\n",
        "  dep = Student(name, id)\n",
        "  departments.append(dep)\n",
        "\n",
        "def assignStudi():\n",
        "  course = input(\"Course ID: \")\n",
        "  studi = input(\"Studi ID: \")\n",
        "  \n",
        "  # next((x for x in test_list if x.value == value), None)\n",
        "  course_object = [c for c in courses if c.code == course][0]\n",
        "  student_object = [s for s in students if s.student_id == studi][0]\n",
        "\n",
        "  try:\n",
        "    course_object.enrollStudi(student_object)\n",
        "  except CourseCapacityFullError:\n",
        "    print(\"The student can not be added to this course as it is already full!\")\n",
        "\n",
        "\n",
        "while run:\n",
        "  action = input(\"What do you want to do? (NewCourse/NewStudent/NewDepartment/EnrollStudi/PrintOverview/quit) \")\n",
        "  if action == \"quit\":\n",
        "    run = False\n",
        "  elif action == \"NewCourse\":\n",
        "    newCourse()\n",
        "  elif action == \"NewStudent\":\n",
        "    newStudent()\n",
        "  elif action == \"NewDepartment\":\n",
        "    newDepartment()\n",
        "  elif action == \"EnrollStudi\":\n",
        "    assignStudi()\n",
        "  elif action == \"PrintOverview\":\n",
        "    printAll()\n",
        "  else:\n",
        "    print(\"Please enter a valid operation!\")\n",
        "    getOperation()\n"
      ],
      "execution_count": null,
      "outputs": [
        {
          "output_type": "stream",
          "text": [
            "What do you want to do? (NewCourse/NewStudent/NewDepartment/EnrollStudi/PrintOverview/quit) NewCourse\n",
            "Course Name: Mathe1\n",
            "Course Code: MA1\n",
            "Credits: 4\n",
            "Student Limit: 2\n",
            "What do you want to do? (NewCourse/NewStudent/NewDepartment/EnrollStudi/PrintOverview/quit) NewStudent\n",
            "Student Name: janick\n",
            "Student ID: 123\n",
            "What do you want to do? (NewCourse/NewStudent/NewDepartment/EnrollStudi/PrintOverview/quit) NewStudent\n",
            "Student Name: Marco\n",
            "Student ID: 456\n",
            "What do you want to do? (NewCourse/NewStudent/NewDepartment/EnrollStudi/PrintOverview/quit) EnrollStudi\n",
            "Course ID: MA1\n",
            "Studi ID: 123\n",
            "What do you want to do? (NewCourse/NewStudent/NewDepartment/EnrollStudi/PrintOverview/quit) EnrollStudi\n",
            "Course ID: MA1\n",
            "Studi ID: 456\n",
            "What do you want to do? (NewCourse/NewStudent/NewDepartment/EnrollStudi/PrintOverview/quit) NewStudent\n",
            "Student Name: Maria\n",
            "Student ID: 789\n",
            "What do you want to do? (NewCourse/NewStudent/NewDepartment/EnrollStudi/PrintOverview/quit) EnrollStudi\n",
            "Course ID: MA1\n",
            "Studi ID: 789\n",
            "The student can not be added to this course as it is already full!\n",
            "What do you want to do? (NewCourse/NewStudent/NewDepartment/EnrollStudi/PrintOverview/quit) PrintOverview\n",
            "--------------------\n",
            "COURSES\n",
            "Course Name: Mathe1\n",
            "Course Code: MA1\n",
            "Credits: 4\n",
            "ENROLLED STUDENTS:\n",
            "Student Name: janick \n",
            "Student ID: 123\n",
            "Student Name: Marco \n",
            "Student ID: 456\n",
            "********************\n",
            "--------------------\n",
            "STUDENTS\n",
            "Student Name: janick \n",
            "Student ID: 123\n",
            "********************\n",
            "Student Name: Marco \n",
            "Student ID: 456\n",
            "********************\n",
            "Student Name: Maria \n",
            "Student ID: 789\n",
            "********************\n",
            "--------------------\n",
            "DEPARTMENTS\n",
            "--------------------\n",
            "LECTURERS\n",
            "--------------------\n"
          ],
          "name": "stdout"
        }
      ]
    },
    {
      "cell_type": "code",
      "metadata": {
        "id": "rE4-Dy2Z5_qh"
      },
      "source": [
        ""
      ],
      "execution_count": null,
      "outputs": []
    }
  ]
}