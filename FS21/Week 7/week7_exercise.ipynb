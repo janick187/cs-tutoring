{
  "nbformat": 4,
  "nbformat_minor": 0,
  "metadata": {
    "colab": {
      "name": "week7_exercise.ipynb",
      "provenance": [],
      "collapsed_sections": []
    },
    "kernelspec": {
      "name": "python3",
      "display_name": "Python 3"
    }
  },
  "cells": [
    {
      "cell_type": "markdown",
      "metadata": {
        "id": "zpz8-DiloguI"
      },
      "source": [
        "# FCS Tutoring Session 7\n",
        "\n",
        "Welcome to our seventh exercise session. Until now, we have seen how we write software in Python. However, this is only one part of the whole story. Another big part is this Artificial Intelligence, Data Science, Machine Learning, Deep Learning and soon the robots will take over anyway BS. :)\n",
        "\n",
        "Everytime we hear these fancy terms in the newspaper and media and business executives think they clearly understand why Andrej Karpathy was not able to make the Tesla autopilot working yet, although they most likely don't even know how regression analysis or a CNN works :)\n",
        "\n",
        "That's why I believe that you can benefit a lot from the topics taught in the following weeks in this course. Because handling and analysing data is a crucial skills in todays business world.\n",
        "\n",
        "So what we are going to do in the next weeks is to dive into the world of data, starting with simple data analysis today and going further on to supervised and unsupervised machine learning. Today we start with simple data handling tasks.\n",
        "\n",
        "\n",
        "For any questions please contact me on Slack.\n",
        "\n",
        "Janick Spirig, 22.04.2021\n",
        "\n",
        "\n"
      ]
    },
    {
      "cell_type": "markdown",
      "metadata": {
        "id": "YDQENVAc5suK"
      },
      "source": [
        "## Which striker should we buy?\n",
        "\n",
        "Let's imagine we are the manager of Real Madrid and we want to buy a new striker for the upcoming season form the Premier League. Of course, we are biased as we really like some players playing in England more than others. However, we can not base such an important decision on our gut feeling.\n",
        "Therefore, we need to analyse the available data to make an objective decision."
      ]
    },
    {
      "cell_type": "markdown",
      "metadata": {
        "id": "CFhdMTMy53hj"
      },
      "source": [
        "### Data loading\n",
        "\n",
        "First thing we need to do is to load the player stats of the players in the Premier League from the season 2019/2020. Luckily, one guy has scraped this data and made publicly available ([Link](https://www.kaggle.com/themlphdstudent/premier-league-player-stats-data)).\n",
        "\n",
        "To make things a bit trickier, I converted the .csv file to .txt - let's load the data into a Pandas DataFrame in the next cell."
      ]
    },
    {
      "cell_type": "code",
      "metadata": {
        "id": "b8D1SUQA6dI0"
      },
      "source": [
        "import pandas as pd\n",
        "import numpy as np\n",
        "import os\n",
        "\n",
        "import matplotlib.pyplot as plt"
      ],
      "execution_count": 21,
      "outputs": []
    },
    {
      "cell_type": "code",
      "metadata": {
        "id": "gVSQT-pI53S2"
      },
      "source": [
        "# your code here\n",
        "def load_data():\n",
        "  '''\n",
        "  Load the data in the txt file into a Pandas DataFrame.\n",
        "  The DataFrame should contain for each player one row and the following columns.\n",
        "  - Rank: Measured by goals scored\n",
        "  - PLAYER: Player name\n",
        "  - TEAM: The team for which the player is playing for\n",
        "  - GP: Games played\n",
        "  - GS: Games started\n",
        "  - MIN: Minutes played\n",
        "  - G: Goals scored\n",
        "  - ASST: Assists\n",
        "  - SHOTS: Total shots\n",
        "  - SOG: Shots on goal\n",
        "\n",
        "  Tipp: Load the data first in to a 2d numpy array and then create a DataFrame with this array as input data.\n",
        "\n",
        "  Return a Pandas DataFrame.\n",
        "  '''"
      ],
      "execution_count": 84,
      "outputs": []
    },
    {
      "cell_type": "code",
      "metadata": {
        "id": "0_pe8oOP5xbS"
      },
      "source": [
        "# cell to load the data\n",
        "df = load_data()\n",
        "print(df.head())"
      ],
      "execution_count": 85,
      "outputs": []
    },
    {
      "cell_type": "markdown",
      "metadata": {
        "id": "ars_Pvw363Nb"
      },
      "source": [
        "### Data Pre-Processing\n",
        "\n",
        "Now before we want to do the analysis we would like to clean our DataFrame. Specifically, we want to\n",
        "remove all players who played zero games or scored zero goals.\n",
        "\n",
        "*   Convert all numbers in the DataFrame to integers (so that we can visualise the results later)\n",
        "*   Remove all players who played zero games\n",
        "*   Remove all players who scored zero goals\n",
        "*   Set the Rank column as our index\n"
      ]
    },
    {
      "cell_type": "code",
      "metadata": {
        "id": "Lzha7AY067ZF"
      },
      "source": [
        "def pre_process(df):\n",
        "  '''\n",
        "  This function should convert all numberic values in the DataFrame to the datatype integer.\n",
        "  Also all players should be deleted in the DataFrame that have scored either zero goals or played zero games.\n",
        "  Lastly, set the column 'Rank' as the index column.\n",
        "\n",
        "  :param df: The noisy DataFrame.\n",
        "  Return the clean, pre-processed DataFrame.\n",
        "  '''"
      ],
      "execution_count": 87,
      "outputs": []
    },
    {
      "cell_type": "code",
      "metadata": {
        "id": "n2Bc3SI9GNPQ"
      },
      "source": [
        "df = pre_process(df)"
      ],
      "execution_count": null,
      "outputs": []
    },
    {
      "cell_type": "markdown",
      "metadata": {
        "id": "aSNuc4mkrzWc"
      },
      "source": [
        "### Data analysis\n",
        "Now since our data is ready, let's analyze it and decide which player we should buy as the manager of Real Madrid."
      ]
    },
    {
      "cell_type": "code",
      "metadata": {
        "id": "uC3cqkw57_88"
      },
      "source": [
        "def top10_goals_strikers(percent, df):\n",
        "    \"\"\"\n",
        "    This function should visualize the top x% strikers (measured by goals)\n",
        "\n",
        "    Calculate first the specified quantile for the \"G\" column.\n",
        "    HINT: There is a function in pandas you can use for this.\n",
        "\n",
        "    Example: 0.9 would indicate the 90% percentile. This is the value for \"G\" for which 90% of the\n",
        "    players are below the rest, i.e. the 90% worse goal scorers.\n",
        "\n",
        "    Then, select all players in the DataFrame which are above the percentile value and plot their goals scored as a bar chart.\n",
        "    Also, return a new DataFrame that includes only these top players\n",
        "\n",
        "    Additionally:\n",
        "        - use the player name for the x-axis\n",
        "        - rotate the Name so it is readable from left to right (the default will be from bottom to top)\n",
        "        - set the figure size to be 1000x700 pixels\n",
        "\n",
        "    :param percent: The top x percentage we are interested in.\n",
        "    :param df: A DataFrame containing the player data.\n",
        "    \"\"\"\n"
      ],
      "execution_count": 107,
      "outputs": []
    },
    {
      "cell_type": "code",
      "metadata": {
        "id": "LYh16WYYY1Kp"
      },
      "source": [
        "# df_top10 = top10_goals_strikers(0.1, df)\n",
        "# print(df_top10)"
      ],
      "execution_count": 213,
      "outputs": []
    },
    {
      "cell_type": "code",
      "metadata": {
        "id": "16DDhdZAECVu"
      },
      "source": [
        "# let's calculate our own perfromance measure and store the data in a different data frame\n",
        "def analyze_performance(df):\n",
        "    \"\"\"\n",
        "    This function creates a new DataFrame with two columns: Player Name and Productivity, Consistency\n",
        "    Productivity tells us how many minutes a player needed to achieve a scoring point\n",
        "\n",
        "    Calculate the value for the productivity as follow: SUM(Goals + Assists) / Minutes played\n",
        "    Return a new DataFrame that contains only the name of the player and its productivity\n",
        "\n",
        "    :param df: The DataFrame containing all the players for which we want to calculate the productivity.\n",
        "    \"\"\"\n"
      ],
      "execution_count": 131,
      "outputs": []
    },
    {
      "cell_type": "code",
      "metadata": {
        "id": "W7HPHqRwEQML"
      },
      "source": [
        "# now let's merge the two dataframes together / by adding the addition performance_score column to the original dataframe\n",
        "# df_top10 = analyze_performance(df_top10)\n",
        "# print(df_top10)"
      ],
      "execution_count": 214,
      "outputs": []
    },
    {
      "cell_type": "markdown",
      "metadata": {
        "id": "9LF_QY9puWft"
      },
      "source": [
        "> **So which player should we buy?**\n",
        "\n",
        "We know the goals, assists and productivty of the top 10% goal-scoring strikers from the past Premier League season. Let's visualize these data in one single diagram with three bars for each player. \n",
        " \n",
        "However, to do so we first need to normalize the data because how are we gonna display the values 0.007456 and 23 in the same diagram? What scale should we use on the y-axis?\n",
        "\n",
        "We can do the normalization with the following formula:\n",
        "\n",
        "![image.png](data:image/png;base64,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)"
      ]
    },
    {
      "cell_type": "code",
      "metadata": {
        "id": "wtx1hQtAvBeW"
      },
      "source": [
        "def normalize(series):\n",
        "  \"\"\"\n",
        "  Normalizes the data of a Pandas Series and returns the noralized new series.\n",
        "\n",
        "  :param series: The pandas series to be normalized, e.g. all values in a column of a DataFrame.\n",
        "\n",
        "  Return the nromalized pandas Series\n",
        "  \"\"\"\n"
      ],
      "execution_count": 134,
      "outputs": []
    },
    {
      "cell_type": "code",
      "metadata": {
        "colab": {
          "base_uri": "https://localhost:8080/"
        },
        "id": "RZVuSoKrwOp4",
        "outputId": "be2677e1-0d4e-4914-94c4-2ed1dd3533ec"
      },
      "source": [
        "# let's normalize the data\n",
        "df_top10['G'] = normalize(df_top10['G'])\n",
        "df_top10['ASST'] = normalize(df_top10['ASST'])\n",
        "df_top10['Productivity'] = normalize(df_top10['Productivity'])"
      ],
      "execution_count": 138,
      "outputs": [
        {
          "output_type": "stream",
          "text": [
            "/usr/local/lib/python3.7/dist-packages/ipykernel_launcher.py:1: SettingWithCopyWarning: \n",
            "A value is trying to be set on a copy of a slice from a DataFrame.\n",
            "Try using .loc[row_indexer,col_indexer] = value instead\n",
            "\n",
            "See the caveats in the documentation: https://pandas.pydata.org/pandas-docs/stable/user_guide/indexing.html#returning-a-view-versus-a-copy\n",
            "  \"\"\"Entry point for launching an IPython kernel.\n",
            "/usr/local/lib/python3.7/dist-packages/ipykernel_launcher.py:2: SettingWithCopyWarning: \n",
            "A value is trying to be set on a copy of a slice from a DataFrame.\n",
            "Try using .loc[row_indexer,col_indexer] = value instead\n",
            "\n",
            "See the caveats in the documentation: https://pandas.pydata.org/pandas-docs/stable/user_guide/indexing.html#returning-a-view-versus-a-copy\n",
            "  \n",
            "/usr/local/lib/python3.7/dist-packages/ipykernel_launcher.py:3: SettingWithCopyWarning: \n",
            "A value is trying to be set on a copy of a slice from a DataFrame.\n",
            "Try using .loc[row_indexer,col_indexer] = value instead\n",
            "\n",
            "See the caveats in the documentation: https://pandas.pydata.org/pandas-docs/stable/user_guide/indexing.html#returning-a-view-versus-a-copy\n",
            "  This is separate from the ipykernel package so we can avoid doing imports until\n"
          ],
          "name": "stderr"
        }
      ]
    },
    {
      "cell_type": "code",
      "metadata": {
        "id": "lS_a3bXqEcmQ"
      },
      "source": [
        "# let's viaualize the top 10 performers with their accoridng goals, assists and productivity so that we can draw a conclusion\n",
        "def visualize(df):\n",
        "    \"\"\"\n",
        "    Plots the columns GOALS, ASSISTS and Productivity of all the players included in the df.\n",
        "\n",
        "    For each of the three attributes every player should get one bar in the chart.\n",
        "\n",
        "    Additionally:\n",
        "        - use the player name for the x-axis\n",
        "        - rotate the Name so it is readable from bottom to top\n",
        "        - set the figure size to be 1000x700 pixels\n",
        "\n",
        "    :param df: A dataframe containing the players data.\n",
        "    \"\"\"\n"
      ],
      "execution_count": 210,
      "outputs": []
    },
    {
      "cell_type": "markdown",
      "metadata": {
        "id": "We8K9EY53pc2"
      },
      "source": [
        "I honnestly think we need to put the productivity somwhoe in relation to the games played...\n",
        "\n",
        "Let's see next week how we can do that (I don't know yet haha 😂 )"
      ]
    }
  ]
}