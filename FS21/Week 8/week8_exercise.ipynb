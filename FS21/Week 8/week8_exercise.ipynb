{
  "nbformat": 4,
  "nbformat_minor": 0,
  "metadata": {
    "celltoolbar": "Edit Metadata",
    "colab": {
      "name": "week8_exercise.ipynb",
      "provenance": [],
      "collapsed_sections": []
    },
    "kernelspec": {
      "display_name": "Python 3",
      "language": "python",
      "name": "python3"
    },
    "language_info": {
      "codemirror_mode": {
        "name": "ipython",
        "version": 3
      },
      "file_extension": ".py",
      "mimetype": "text/x-python",
      "name": "python",
      "nbconvert_exporter": "python",
      "pygments_lexer": "ipython3",
      "version": "3.8.5"
    }
  },
  "cells": [
    {
      "cell_type": "markdown",
      "metadata": {
        "id": "a8zdtsqOgEe4"
      },
      "source": [
        "# FCS Tutoring Session 8\n",
        "\n",
        "Welcome to our eight exercise session. Started last week with data wrangling of football data we will continue this journey today.\n",
        "\n",
        "I was looking for a free API from which we can query current and accurate stats data from football players. Unfortunately, I did not find one.\n",
        "As a solution, I just create one by myself, which just gives back some data in JSON format about a few football players: \n",
        "\n",
        "`https://example-data-football.herokuapp.com/getPlayerData`\n",
        "\n",
        "Our goal is to first integrate this data and then wrangle around a bit with the data by cleaning and transforming the data.\n",
        "\n",
        "For any questions please contact me on Slack.\n",
        "\n",
        "Janick Spirig, 22.04.2021"
      ]
    },
    {
      "cell_type": "code",
      "metadata": {
        "deletable": false,
        "editable": false,
        "id": "h0WS-Kl-j2mC"
      },
      "source": [
        "import os\n",
        "import requests\n",
        "import pandas as pd\n",
        "import numpy as np\n",
        "import matplotlib.pyplot as plt\n",
        "import matplotlib"
      ],
      "execution_count": 86,
      "outputs": []
    },
    {
      "cell_type": "markdown",
      "metadata": {
        "id": "w-K24Urtg1Rx"
      },
      "source": [
        "## Load data from API\n",
        "\n",
        "The first task is to load the data from the API. As you have learnt previously we can use the `requests` library for this task which we just imported in the cell above.\n",
        "\n",
        "\n",
        "---\n",
        "\n",
        "The result from the API for each footballplayer will look like this (JSON): \n",
        "\n",
        "`[\"defender\", 89, 35, false, \"Sergio Ramos\", \"Male\"]`\n",
        "\n",
        "The values are ordered as:\n",
        "*   Player Position\n",
        "*   Fifa rating\n",
        "*   Age\n",
        "*   is_striker?\n",
        "*   Gender\n",
        "\n",
        "\n",
        "If we want to represent each player as a python object, we first need to define the class, then load the data and finally create the python objects."
      ]
    },
    {
      "cell_type": "code",
      "metadata": {
        "id": "NuOYlRkuhGHs"
      },
      "source": [
        "# define here the class Footballplayer\n",
        "class Footballplayer:\n",
        "  def __init__(self, datalist):\n",
        "    self.position = datalist[0]\n",
        "    self.rating = datalist[1]\n",
        "    self.age = datalist[2]\n",
        "    self.is_striker = datalist[3]\n",
        "    self.name = datalist[4]\n",
        "    self.gender = datalist[5]"
      ],
      "execution_count": 87,
      "outputs": []
    },
    {
      "cell_type": "code",
      "metadata": {
        "id": "i0IwcAV2g0CM"
      },
      "source": [
        "def loadData():\n",
        "    \"\"\"\n",
        "    Load the data from the example API and creates for each football player a Football Player object.\n",
        "\n",
        "    :return: A list with all Footballplayers represented as python objects\n",
        "    \"\"\"\n"
      ],
      "execution_count": 88,
      "outputs": []
    },
    {
      "cell_type": "code",
      "metadata": {
        "id": "UWDO56xFirFd"
      },
      "source": [
        "footballplayers = loadData()"
      ],
      "execution_count": 89,
      "outputs": []
    },
    {
      "cell_type": "markdown",
      "metadata": {
        "id": "ucb6dSSL4LKN"
      },
      "source": [
        "## Data wrangling"
      ]
    },
    {
      "cell_type": "code",
      "metadata": {
        "id": "giI4Pl5JBZI1"
      },
      "source": [
        "def create_footballplayer_list(footballplayers):\n",
        "    \"\"\"\n",
        "    Takes a list of Player objects and creates tuples containing the information of each Footballplayer, then returns them.\n",
        "    The tuple format is (name, position, rating, age, is_striker, gender).\n",
        "\n",
        "    :param football_players: A list of Footballplayer objects.\n",
        "    :return: A list of tuples, where each tuple represents the data of one player\n",
        "    \"\"\""
      ],
      "execution_count": 90,
      "outputs": []
    },
    {
      "cell_type": "code",
      "metadata": {
        "id": "tns0RUT2BwI3"
      },
      "source": [
        "player_lst = create_footballplayer_list(footballplayers)"
      ],
      "execution_count": 91,
      "outputs": []
    },
    {
      "cell_type": "code",
      "metadata": {
        "id": "HZaJPQZ9BbNG"
      },
      "source": [
        "def create_footballplayer_df(footballplayers):\n",
        "    \"\"\"\n",
        "    Takes a list of Footballplayer objects as tuples and creates a DataFrame containing the footballplayer data.\n",
        "    It should have the following columns in the same exact order:\n",
        "        Name, Position, Rating, Age, Is Striker?\n",
        "\n",
        "    :param footballplayers: A list of tuples in the format\n",
        "    :return: A DataFrame containing the data from \"footballplayers\" with the correct columns as specified.\n",
        "    \"\"\""
      ],
      "execution_count": 92,
      "outputs": []
    },
    {
      "cell_type": "code",
      "metadata": {
        "id": "ZK2yiOleB0KH"
      },
      "source": [
        "player_df = create_footballplayer_df(player_lst)"
      ],
      "execution_count": 93,
      "outputs": []
    },
    {
      "cell_type": "code",
      "metadata": {
        "id": "j-6yCqkMBd08"
      },
      "source": [
        "def get_footballplayer_df_dtypes(df):\n",
        "    \"\"\"\n",
        "    Takes a DataFrame containing the footballplayer data and creates a dictionary mapping the label of each column\n",
        "    to its dtype.\n",
        "\n",
        "    :param df: The DataFrame containing the footballplayer data.\n",
        "    :return: A dictionary mapping the label (name) of each column of the DataFrame to the dtype of the column.\n",
        "    \"\"\""
      ],
      "execution_count": 26,
      "outputs": []
    },
    {
      "cell_type": "code",
      "metadata": {
        "id": "a6pP82XVB371"
      },
      "source": [
        "get_footballplayer_df_dtypes(player_df)\n",
        "\n",
        "# what means dtype('O'), dtype('int64') etc.? https://pbpython.com/pandas_dtypes.html"
      ],
      "execution_count": null,
      "outputs": []
    },
    {
      "cell_type": "code",
      "metadata": {
        "id": "i9vKcZ84nkHV"
      },
      "source": [
        "def replace_gender_values(df):\n",
        "    \"\"\"\n",
        "    Replaces the values in the gender column in the DataFrame.\n",
        "      \"Male\" -> \"m\"\n",
        "      \"Female\" -> \"female\n",
        "\n",
        "    HINT: Use the apply function.\n",
        "\n",
        "    :param df: The DataFrame.\n",
        "    :return: Nothing - performs the replacement in-place.\n",
        "    \"\"\""
      ],
      "execution_count": 28,
      "outputs": []
    },
    {
      "cell_type": "code",
      "metadata": {
        "id": "uWGr0xSw36kq"
      },
      "source": [
        "replace_gender_values(player_df)"
      ],
      "execution_count": 29,
      "outputs": []
    },
    {
      "cell_type": "code",
      "metadata": {
        "id": "fNtiWrSFBg-P"
      },
      "source": [
        "def replace_none_values_in_column(df, column, values):\n",
        "    \"\"\"\n",
        "    Replaces all None values in a column of a DataFrame.\n",
        "\n",
        "    :param df: The DataFrame.\n",
        "    :param column: The column that has None values.\n",
        "    :param values: The values that are being used to replace the None values.\n",
        "    :return: Nothing - performs the replacement in-place.\n",
        "\n",
        "    HINTS:\n",
        "    - You can assume that the number of None values is always equal to len(values). That means you always get the\n",
        "        exactly right amount of values.\n",
        "    - Start by figuring out how to find the None values!\n",
        "    - Use this information to select the rows where this condition holds\n",
        "    - You only want to replace values in one column - find a way to select only this one column from the relevant rows\n",
        "    - Lastly you can update the row values in this one column. You find the replacement values in the variable \"values\"\n",
        "    \"\"\""
      ],
      "execution_count": 30,
      "outputs": []
    },
    {
      "cell_type": "code",
      "metadata": {
        "id": "-wJKI8S1B6S3"
      },
      "source": [
        "replace_none_values_in_column(player_df, \"Position\", [\"defender\", \"striker\"])"
      ],
      "execution_count": null,
      "outputs": []
    },
    {
      "cell_type": "code",
      "metadata": {
        "id": "W30es8HpWyT0"
      },
      "source": [
        "def drop_column(df, column):\n",
        "    \"\"\"\n",
        "    Drops a column from a DataFrame.\n",
        "\n",
        "    :param df: The DataFrame.\n",
        "    :param column: The column to be dropped.\n",
        "    :return: The DataFrame without the unwanted column.\n",
        "    \"\"\"\n"
      ],
      "execution_count": 33,
      "outputs": []
    },
    {
      "cell_type": "code",
      "metadata": {
        "id": "mCS3oDOQW-6u"
      },
      "source": [
        "player_df = drop_column(player_df, 'Is Striker?')\n",
        "player_df"
      ],
      "execution_count": null,
      "outputs": []
    },
    {
      "cell_type": "code",
      "metadata": {
        "id": "Dz-9RAs0YO90"
      },
      "source": [
        "def change_column_order(df, new_order):\n",
        "    \"\"\"\n",
        "    Applies new column order to a DataFrame.\n",
        "\n",
        "    :param new_order: A list of the column labels in the new order.\n",
        "    :return: The DataFrame wiht the columns in new order.\n",
        "    \"\"\""
      ],
      "execution_count": 35,
      "outputs": []
    },
    {
      "cell_type": "code",
      "metadata": {
        "id": "u9v6bGjkZU_S"
      },
      "source": [
        "player_df = change_column_order(player_df, ['Name', 'Rating','Age', 'Position', 'Gender'])\n",
        "player_df"
      ],
      "execution_count": null,
      "outputs": []
    },
    {
      "cell_type": "code",
      "metadata": {
        "id": "gie5bnD0aUIu"
      },
      "source": [
        "def create_stats_df(stats, footballplayers):\n",
        "    \"\"\"\n",
        "    Takes a list of stats tuples and a dataframe of footballplayer objects and creates a DataFrame containing the footballplayer stats.\n",
        "    Each tuple in the stats list belongs to a footballplayer -> the first tuple belongs to the first footballplayer in the list etc.\n",
        "    \n",
        "    It should have the following columns in the same exact order:\n",
        "        Name, 2017/2018, 2018/2019, 2019/2020\n",
        "\n",
        "    :param stats: A list of tuples which each tuple containing three integer values.\n",
        "    :param footballplayers: A dataframe containing the footballplayers\n",
        "    :return: A DataFrame containing the name from \"footballplayers\" and his stats with the correct columns as specified.\n",
        "    \"\"\"\n"
      ],
      "execution_count": 37,
      "outputs": []
    },
    {
      "cell_type": "code",
      "metadata": {
        "id": "009r0fducyhu"
      },
      "source": [
        "stats = [\n",
        "         (10,8,12),\n",
        "         (15,12,5),\n",
        "         (2,5,1),\n",
        "         (25,17,23),\n",
        "         (40,45,51),\n",
        "         (0,0,0),\n",
        "         (4,6,2),\n",
        "         (10,12,16),\n",
        "         (30,25,27),\n",
        "         (0,0,0),\n",
        "         (11,21,18),\n",
        "         (8,25,23),\n",
        "         (2,4,3),\n",
        "         ]\n",
        "\n",
        "stats_df = create_stats_df(stats, player_df)\n",
        "stats_df"
      ],
      "execution_count": null,
      "outputs": []
    },
    {
      "cell_type": "code",
      "metadata": {
        "id": "AcWQ0MbRdgdD"
      },
      "source": [
        "player_df"
      ],
      "execution_count": null,
      "outputs": []
    },
    {
      "cell_type": "code",
      "metadata": {
        "id": "H0UVpX5H3C1q"
      },
      "source": [
        "def add_more_players(df, players):\n",
        "    \"\"\"\n",
        "    Takes a list of dictionaries where each dictionary represents a a new player and adds them to the DataFrame df.\n",
        "    You must not check whether the number of columns in df is the same as the number of elements in the players tuple. Just add each player as new row to the DataFrame.\n",
        "\n",
        "    :param players: A list of tuples which each tuple representing a player\n",
        "    :param df: A DataFrame to which all the players should be added.\n",
        "    :return: The updated DataFrame\n",
        "    \"\"\""
      ],
      "execution_count": 40,
      "outputs": []
    },
    {
      "cell_type": "code",
      "metadata": {
        "id": "oL3MpXnh4sKU"
      },
      "source": [
        "new_players = [{\n",
        "    'Name':'Cristiano Ronaldo',\n",
        "    '2019/2020'\t: 40,\n",
        "    '2017/2018' : 50,\n",
        "    '2018/2019' : 42\n",
        "  },\n",
        "  {\n",
        "    'Name':'Neymar',\n",
        "    '2019/2020'\t: 35,\n",
        "    '2017/2018' : 22,\n",
        "    '2018/2019' : 24\n",
        "  }]\n",
        "\n",
        "stats_df = add_more_players(stats_df, new_players)\n",
        "\n",
        "new_players = [{\n",
        "    'Name':'Heu-Ming Son',\n",
        "    'Rating': 87,\n",
        "    'Age' : 27,\n",
        "    'Position' : 'midfielder',\n",
        "    'Gender': 'm'\n",
        "  },\n",
        "  {\n",
        "    'Name':'Denis Zakaria',\n",
        "    'Rating': 86,\n",
        "    'Age' : 23,\n",
        "    'Position' : 'midfielder',\n",
        "    'Gender' : 'm'\n",
        "  }]\n",
        "\n",
        "player_df = add_more_players(player_df, new_players)"
      ],
      "execution_count": 41,
      "outputs": []
    },
    {
      "cell_type": "code",
      "metadata": {
        "id": "mogzBnX7_U8c"
      },
      "source": [
        "player_df"
      ],
      "execution_count": null,
      "outputs": []
    },
    {
      "cell_type": "code",
      "metadata": {
        "id": "acfTr59w_iRn"
      },
      "source": [
        "stats_df"
      ],
      "execution_count": null,
      "outputs": []
    },
    {
      "cell_type": "code",
      "metadata": {
        "id": "IQxVleDNCXV2"
      },
      "source": [
        "def merge_dfs(df1, df2, index, how):\n",
        "    \"\"\"\n",
        "    Merges two DataFrames.\n",
        "\n",
        "    :param df1: The first DataFrame.\n",
        "    :param df2: The second DataFrame.\n",
        "    :param index: Which column to use as index.\n",
        "    :param how: How the merging should be performed.\n",
        "    :return: The merge of the DataFrame.\n",
        "    \"\"\""
      ],
      "execution_count": 44,
      "outputs": []
    },
    {
      "cell_type": "code",
      "metadata": {
        "id": "pIUipZTnaJ5Y"
      },
      "source": [
        "# just uncomment the print-statement below for any desired possibility of merge\n",
        "\n",
        "# OUTER-merge: Take all rows of both dataframes\n",
        "# print(merge_dfs(player_df, stats_df, \"Name\", \"outer\"))\n",
        "\n",
        "# INNER-merge: Take all rows which match against the join-key\n",
        "# print(merge_dfs(player_df, stats_df, \"Name\", \"inner\"))\n",
        "\n",
        "# LEFT-merge: Take all rows from the left dataframe and those rows from the right dataframe which match against the join-key\n",
        "#print(merge_dfs(player_df, stats_df, \"Name\", \"left\"))\n",
        "\n",
        "# RIGHT-merge: Take all rows from the right dataframe and those rows from the left dataframe which match against the join-key\n",
        "# print(merge_dfs(player_df, stats_df, \"Name\", \"right\"))"
      ],
      "execution_count": null,
      "outputs": []
    },
    {
      "cell_type": "code",
      "metadata": {
        "id": "lX577gsNCVuo"
      },
      "source": [
        "def add_mean(df, columns):\n",
        "    \"\"\"\n",
        "    Adds a column \"Mean\" to a DataFrame and round the mean value to one digit.\n",
        "    Each row should have a value in this column. The \"Mean\" for each row should be calculated over all values in that\n",
        "    are in the columns from \"columns\".\n",
        "\n",
        "    HINT: Be sure to specify the correct axis!\n",
        "\n",
        "    :param df: The DataFrame.\n",
        "    :param columns: The columns over which the mean should be calculated.\n",
        "    :return: Nothing, add the column in-place.\n",
        "    \"\"\""
      ],
      "execution_count": 46,
      "outputs": []
    },
    {
      "cell_type": "code",
      "metadata": {
        "id": "8-qm86ipRXFc"
      },
      "source": [
        "merged_df = merge_dfs(player_df, stats_df, \"Name\", \"outer\")\n",
        "add_mean(merged_df, ['2017/2018', '2018/2019','2019/2020'])"
      ],
      "execution_count": 47,
      "outputs": []
    },
    {
      "cell_type": "code",
      "metadata": {
        "id": "I-Dr_BA6R4Z3"
      },
      "source": [
        "# now sort the data frame in descending order based on the column Average Goals"
      ],
      "execution_count": 48,
      "outputs": []
    },
    {
      "cell_type": "code",
      "metadata": {
        "id": "vvNeQ1frTmHc"
      },
      "source": [
        "merged_df"
      ],
      "execution_count": null,
      "outputs": []
    },
    {
      "cell_type": "markdown",
      "metadata": {
        "id": "Mk92CIbo5LlF"
      },
      "source": [
        "## Visualization\n",
        "\n",
        "Let's visualize the data in a bar chart. For each player we want to have two bars in the chart. One for the rating and another one for Average Goals."
      ]
    },
    {
      "cell_type": "code",
      "metadata": {
        "id": "YbEODktZ5XJ4"
      },
      "source": [
        "def visualize(df):\n",
        "    \"\"\"\n",
        "    Plots the columns Rating and Average Goals of all the players included in the df.\n",
        "\n",
        "    For each of the two attributes every player should get one bar in the chart.\n",
        "\n",
        "    Additionally:\n",
        "        - use the player name for the x-axis\n",
        "        - rotate the Name so it is readable from bottom to top\n",
        "        - set the figure size to be 1000x700 pixels\n",
        "\n",
        "    :param df: A dataframe containing the players data.\n",
        "    \"\"\""
      ],
      "execution_count": 84,
      "outputs": []
    },
    {
      "cell_type": "code",
      "metadata": {
        "id": "jtXvRKQP6bOn"
      },
      "source": [
        "visualize(merged_df)"
      ],
      "execution_count": null,
      "outputs": []
    },
    {
      "cell_type": "markdown",
      "metadata": {
        "id": "alVksWAa4guY"
      },
      "source": [
        "## Normalization\n",
        "\n",
        "As a last task, we want to normalize the data in the columns `Rating` and `Average Goals`. Because right now the scales of these two attributes differ a lot and since we want to compare the players we are no interested in the absolute values. To normalize the values we can use the normalization formula below.\n",
        "\n",
        "![image.png](data:image/png;base64,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)"
      ]
    },
    {
      "cell_type": "code",
      "metadata": {
        "id": "dL091wTFnIzl"
      },
      "source": [
        "def normalize(series):\n",
        "  \"\"\"\n",
        "  Normalizes the data of a Pandas Series and returns the noralized new series.\n",
        "\n",
        "  :param series: The pandas series to be normalized, e.g. all values in a column of a DataFrame.\n",
        "\n",
        "  Return the nromalized pandas Series\n",
        "  \"\"\""
      ],
      "execution_count": 15,
      "outputs": []
    },
    {
      "cell_type": "code",
      "metadata": {
        "id": "LvGPfFzk7D27"
      },
      "source": [
        "merged_df['Rating'] = normalize(merged_df['Rating'])\n",
        "merged_df['Average Goals'] = normalize(merged_df['Average Goals'])"
      ],
      "execution_count": 58,
      "outputs": []
    }
  ]
}